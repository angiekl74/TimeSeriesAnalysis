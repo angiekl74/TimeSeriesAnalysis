{
 "cells": [
  {
   "cell_type": "markdown",
   "metadata": {},
   "source": [
    "### SARIMA articles - Jason Brownlee\n",
    "* https://machinelearningmastery.com/sarima-for-time-series-forecasting-in-python/\n",
    "* https://machinelearningmastery.com/how-to-grid-search-sarima-model-hyperparameters-for-time-series-forecasting-in-python/"
   ]
  },
  {
   "cell_type": "markdown",
   "metadata": {},
   "source": [
    "SARIMA \n",
    "1. Supports univariate time series data with a seasonal component.\n",
    "2. Adds 3 new hyperparameters to specify the autoregression (AR), differencing (I) and moving average (MA) for the SEASONAL component of the series, as well as an additional parameter for the period of the seasonality. The seasonal elements that are not part of ARIMA that must be configured are:\n",
    "\n",
    "    * P: Seasonal autoregressive order.\n",
    "    * D: Seasonal difference order.\n",
    "    * Q: Seasonal moving average order.\n",
    "    * m: The number of time steps for a single seasonal period. For example: An m of 12 for monthly data suggests a yearly seasonal cycle.\n",
    "            * Format: SARIMA(p,d,q)(P,D,Q)m\n",
    "\n",
    "3. Use statsmodel library (https://www.statsmodels.org/dev/statespace.html)        \n",
    "4. To use SARIMA there are three steps, they are:\n",
    "\n",
    "    * Define the model.\n",
    "    * Fit the defined model.\n",
    "    * Make a prediction with the fit model."
   ]
  },
  {
   "cell_type": "markdown",
   "metadata": {},
   "source": [
    "#### Define the model\n",
    "    * The implementation is called SARIMAX instead of SARIMA because the “X” addition to the method name means that the implementation also supports exogenous variables.\n",
    "    * The trend and seasonal hyperparameters are specified as 3 and 4 element tuples respectively to the “order” and “seasonal_order” arguments. Format is below:\n",
    "        \n",
    "        1. specify training data\n",
    "                data = ...\n",
    "        2. define model configuration\n",
    "                my_order = (1, 1, 1)\n",
    "                my_seasonal_order = (1, 1, 1, 12)\n",
    "        3. define model\n",
    "                model = SARIMAX(data, order=my_order, seasonal_order=my_seasonal_order, ...)"
   ]
  },
  {
   "cell_type": "markdown",
   "metadata": {},
   "source": [
    "### Make a Prediction\n",
    "    * Once model is fitted, a forecast can be made by calling the forecast() or the predict() functions. forecast() takes a single parameter that specifies the number of out of sample time steps to forecast, or assumes a one step forecast if no arguments are provided\n",
    "        1. define model\n",
    "                model = SARIMAX(data, order=..., seasonal_order=...)\n",
    "        2. fit model\n",
    "                model_fit = model.fit()\n",
    "        3. one step forecast\n",
    "                yhat = model_fit.forecast()\n",
    "                yhat = model_fit.predict()"
   ]
  },
  {
   "cell_type": "markdown",
   "metadata": {},
   "source": []
  }
 ],
 "metadata": {
  "kernelspec": {
   "display_name": "Python 3.7.6 64-bit ('PythonData': conda)",
   "language": "python",
   "name": "python37664bitpythondataconda4d5fd80126dc4277998df777cb4466d3"
  },
  "language_info": {
   "codemirror_mode": {
    "name": "ipython",
    "version": 3
   },
   "file_extension": ".py",
   "mimetype": "text/x-python",
   "name": "python",
   "nbconvert_exporter": "python",
   "pygments_lexer": "ipython3",
   "version": "3.7.6"
  }
 },
 "nbformat": 4,
 "nbformat_minor": 2
}
